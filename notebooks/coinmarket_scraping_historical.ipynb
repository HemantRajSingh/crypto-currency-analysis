{
 "cells": [
  {
   "cell_type": "code",
   "execution_count": 59,
   "metadata": {},
   "outputs": [],
   "source": [
    "import pandas as pd\n",
    "from bs4 import BeautifulSoup\n",
    "import time\n",
    "import datetime\n",
    "\n",
    "from selenium import webdriver\n",
    "from selenium.webdriver.support.ui import WebDriverWait\n",
    "from selenium.webdriver.support import expected_conditions as EC\n",
    "from selenium.webdriver.common.by import By"
   ]
  },
  {
   "cell_type": "code",
   "execution_count": 60,
   "metadata": {},
   "outputs": [
    {
     "data": {
      "text/html": [
       "<div>\n",
       "<style scoped>\n",
       "    .dataframe tbody tr th:only-of-type {\n",
       "        vertical-align: middle;\n",
       "    }\n",
       "\n",
       "    .dataframe tbody tr th {\n",
       "        vertical-align: top;\n",
       "    }\n",
       "\n",
       "    .dataframe thead th {\n",
       "        text-align: right;\n",
       "    }\n",
       "</style>\n",
       "<table border=\"1\" class=\"dataframe\">\n",
       "  <thead>\n",
       "    <tr style=\"text-align: right;\">\n",
       "      <th></th>\n",
       "      <th>id</th>\n",
       "      <th>name</th>\n",
       "      <th>symbol</th>\n",
       "      <th>slug</th>\n",
       "      <th>num_market_pairs</th>\n",
       "      <th>date_added</th>\n",
       "      <th>tags</th>\n",
       "      <th>max_supply</th>\n",
       "      <th>circulating_supply</th>\n",
       "      <th>total_supply</th>\n",
       "      <th>infinite_supply</th>\n",
       "      <th>platform</th>\n",
       "      <th>cmc_rank</th>\n",
       "      <th>self_reported_circulating_supply</th>\n",
       "      <th>self_reported_market_cap</th>\n",
       "      <th>tvl_ratio</th>\n",
       "      <th>last_updated</th>\n",
       "      <th>quote</th>\n",
       "    </tr>\n",
       "  </thead>\n",
       "  <tbody>\n",
       "    <tr>\n",
       "      <th>0</th>\n",
       "      <td>1</td>\n",
       "      <td>Bitcoin</td>\n",
       "      <td>BTC</td>\n",
       "      <td>bitcoin</td>\n",
       "      <td>10943</td>\n",
       "      <td>2010-07-13T00:00:00.000Z</td>\n",
       "      <td>['mineable', 'pow', 'sha-256', 'store-of-value...</td>\n",
       "      <td>21000000.0</td>\n",
       "      <td>1.966502e+07</td>\n",
       "      <td>1.966502e+07</td>\n",
       "      <td>False</td>\n",
       "      <td>NaN</td>\n",
       "      <td>1</td>\n",
       "      <td>NaN</td>\n",
       "      <td>NaN</td>\n",
       "      <td>NaN</td>\n",
       "      <td>2024-03-26T18:25:00.000Z</td>\n",
       "      <td>{'USD': {'price': 70215.2092211454, 'volume_24...</td>\n",
       "    </tr>\n",
       "    <tr>\n",
       "      <th>1</th>\n",
       "      <td>1027</td>\n",
       "      <td>Ethereum</td>\n",
       "      <td>ETH</td>\n",
       "      <td>ethereum</td>\n",
       "      <td>8652</td>\n",
       "      <td>2015-08-07T00:00:00.000Z</td>\n",
       "      <td>['pos', 'smart-contracts', 'ethereum-ecosystem...</td>\n",
       "      <td>NaN</td>\n",
       "      <td>1.200740e+08</td>\n",
       "      <td>1.200740e+08</td>\n",
       "      <td>True</td>\n",
       "      <td>NaN</td>\n",
       "      <td>2</td>\n",
       "      <td>NaN</td>\n",
       "      <td>NaN</td>\n",
       "      <td>NaN</td>\n",
       "      <td>2024-03-26T18:24:00.000Z</td>\n",
       "      <td>{'USD': {'price': 3590.2311684461333, 'volume_...</td>\n",
       "    </tr>\n",
       "    <tr>\n",
       "      <th>2</th>\n",
       "      <td>825</td>\n",
       "      <td>Tether USDt</td>\n",
       "      <td>USDT</td>\n",
       "      <td>tether</td>\n",
       "      <td>80280</td>\n",
       "      <td>2015-02-25T00:00:00.000Z</td>\n",
       "      <td>['payments', 'stablecoin', 'asset-backed-stabl...</td>\n",
       "      <td>NaN</td>\n",
       "      <td>1.042337e+11</td>\n",
       "      <td>1.077926e+11</td>\n",
       "      <td>True</td>\n",
       "      <td>{'id': 1027, 'name': 'Ethereum', 'symbol': 'ET...</td>\n",
       "      <td>3</td>\n",
       "      <td>NaN</td>\n",
       "      <td>NaN</td>\n",
       "      <td>NaN</td>\n",
       "      <td>2024-03-26T18:24:00.000Z</td>\n",
       "      <td>{'USD': {'price': 1.000137662205108, 'volume_2...</td>\n",
       "    </tr>\n",
       "    <tr>\n",
       "      <th>3</th>\n",
       "      <td>1839</td>\n",
       "      <td>BNB</td>\n",
       "      <td>BNB</td>\n",
       "      <td>bnb</td>\n",
       "      <td>2124</td>\n",
       "      <td>2017-07-25T00:00:00.000Z</td>\n",
       "      <td>['marketplace', 'centralized-exchange', 'payme...</td>\n",
       "      <td>NaN</td>\n",
       "      <td>1.495367e+08</td>\n",
       "      <td>1.495367e+08</td>\n",
       "      <td>False</td>\n",
       "      <td>NaN</td>\n",
       "      <td>4</td>\n",
       "      <td>NaN</td>\n",
       "      <td>NaN</td>\n",
       "      <td>NaN</td>\n",
       "      <td>2024-03-26T18:24:00.000Z</td>\n",
       "      <td>{'USD': {'price': 579.0937507284682, 'volume_2...</td>\n",
       "    </tr>\n",
       "    <tr>\n",
       "      <th>4</th>\n",
       "      <td>5426</td>\n",
       "      <td>Solana</td>\n",
       "      <td>SOL</td>\n",
       "      <td>solana</td>\n",
       "      <td>646</td>\n",
       "      <td>2020-04-10T00:00:00.000Z</td>\n",
       "      <td>['pos', 'platform', 'solana-ecosystem', 'cms-h...</td>\n",
       "      <td>NaN</td>\n",
       "      <td>4.441814e+08</td>\n",
       "      <td>5.725844e+08</td>\n",
       "      <td>True</td>\n",
       "      <td>NaN</td>\n",
       "      <td>5</td>\n",
       "      <td>NaN</td>\n",
       "      <td>NaN</td>\n",
       "      <td>NaN</td>\n",
       "      <td>2024-03-26T18:24:00.000Z</td>\n",
       "      <td>{'USD': {'price': 189.31256529881077, 'volume_...</td>\n",
       "    </tr>\n",
       "  </tbody>\n",
       "</table>\n",
       "</div>"
      ],
      "text/plain": [
       "     id         name symbol      slug  num_market_pairs  \\\n",
       "0     1      Bitcoin    BTC   bitcoin             10943   \n",
       "1  1027     Ethereum    ETH  ethereum              8652   \n",
       "2   825  Tether USDt   USDT    tether             80280   \n",
       "3  1839          BNB    BNB       bnb              2124   \n",
       "4  5426       Solana    SOL    solana               646   \n",
       "\n",
       "                 date_added  \\\n",
       "0  2010-07-13T00:00:00.000Z   \n",
       "1  2015-08-07T00:00:00.000Z   \n",
       "2  2015-02-25T00:00:00.000Z   \n",
       "3  2017-07-25T00:00:00.000Z   \n",
       "4  2020-04-10T00:00:00.000Z   \n",
       "\n",
       "                                                tags  max_supply  \\\n",
       "0  ['mineable', 'pow', 'sha-256', 'store-of-value...  21000000.0   \n",
       "1  ['pos', 'smart-contracts', 'ethereum-ecosystem...         NaN   \n",
       "2  ['payments', 'stablecoin', 'asset-backed-stabl...         NaN   \n",
       "3  ['marketplace', 'centralized-exchange', 'payme...         NaN   \n",
       "4  ['pos', 'platform', 'solana-ecosystem', 'cms-h...         NaN   \n",
       "\n",
       "   circulating_supply  total_supply  infinite_supply  \\\n",
       "0        1.966502e+07  1.966502e+07            False   \n",
       "1        1.200740e+08  1.200740e+08             True   \n",
       "2        1.042337e+11  1.077926e+11             True   \n",
       "3        1.495367e+08  1.495367e+08            False   \n",
       "4        4.441814e+08  5.725844e+08             True   \n",
       "\n",
       "                                            platform  cmc_rank  \\\n",
       "0                                                NaN         1   \n",
       "1                                                NaN         2   \n",
       "2  {'id': 1027, 'name': 'Ethereum', 'symbol': 'ET...         3   \n",
       "3                                                NaN         4   \n",
       "4                                                NaN         5   \n",
       "\n",
       "   self_reported_circulating_supply  self_reported_market_cap  tvl_ratio  \\\n",
       "0                               NaN                       NaN        NaN   \n",
       "1                               NaN                       NaN        NaN   \n",
       "2                               NaN                       NaN        NaN   \n",
       "3                               NaN                       NaN        NaN   \n",
       "4                               NaN                       NaN        NaN   \n",
       "\n",
       "               last_updated                                              quote  \n",
       "0  2024-03-26T18:25:00.000Z  {'USD': {'price': 70215.2092211454, 'volume_24...  \n",
       "1  2024-03-26T18:24:00.000Z  {'USD': {'price': 3590.2311684461333, 'volume_...  \n",
       "2  2024-03-26T18:24:00.000Z  {'USD': {'price': 1.000137662205108, 'volume_2...  \n",
       "3  2024-03-26T18:24:00.000Z  {'USD': {'price': 579.0937507284682, 'volume_2...  \n",
       "4  2024-03-26T18:24:00.000Z  {'USD': {'price': 189.31256529881077, 'volume_...  "
      ]
     },
     "execution_count": 60,
     "metadata": {},
     "output_type": "execute_result"
    }
   ],
   "source": [
    "df = pd.read_csv('../data/raw/coinmarketcap_cryptocurrency_listings_latest.csv')\n",
    "df.head()"
   ]
  },
  {
   "cell_type": "markdown",
   "metadata": {},
   "source": [
    "# Get historical data from 2020-2024 for each currency using url"
   ]
  },
  {
   "cell_type": "code",
   "execution_count": 61,
   "metadata": {},
   "outputs": [],
   "source": [
    "base_url = 'https://coinmarketcap.com'"
   ]
  },
  {
   "cell_type": "code",
   "execution_count": 62,
   "metadata": {},
   "outputs": [],
   "source": [
    "start_date = 20200101\n",
    "end_date = 202403026"
   ]
  },
  {
   "cell_type": "code",
   "execution_count": 63,
   "metadata": {},
   "outputs": [
    {
     "data": {
      "text/plain": [
       "'https://coinmarketcap.com/currencies/bitcoin/historical-data/?start=20200101&end=202403026'"
      ]
     },
     "execution_count": 63,
     "metadata": {},
     "output_type": "execute_result"
    }
   ],
   "source": [
    "historical_url = f'{base_url}/currencies/bitcoin/historical-data/?start={start_date}&end={end_date}'\n",
    "historical_url"
   ]
  },
  {
   "cell_type": "code",
   "execution_count": 69,
   "metadata": {},
   "outputs": [],
   "source": [
    "driver = webdriver.Chrome()\n",
    "driver.get(historical_url)"
   ]
  },
  {
   "cell_type": "code",
   "execution_count": 71,
   "metadata": {},
   "outputs": [
    {
     "data": {
      "text/plain": [
       "<selenium.webdriver.remote.webelement.WebElement (session=\"6d546be487d7993c6f77509a779d6160\", element=\"f.EFE5F0684A142AC61E70F790ED2F8156.d.8F5BF0EC361BC391F5C056B50B37C9FC.e.22\")>"
      ]
     },
     "execution_count": 71,
     "metadata": {},
     "output_type": "execute_result"
    }
   ],
   "source": [
    "# wait for the history table to be generated\n",
    "wait = WebDriverWait(driver, 10)\n",
    "wait.until(EC.presence_of_element_located((By.CSS_SELECTOR, '.history table')))\n"
   ]
  },
  {
   "cell_type": "code",
   "execution_count": 72,
   "metadata": {},
   "outputs": [],
   "source": [
    "soup = BeautifulSoup(driver.page_source, 'html.parser')"
   ]
  },
  {
   "cell_type": "code",
   "execution_count": 74,
   "metadata": {},
   "outputs": [
    {
     "data": {
      "text/plain": [
       "<table class=\"sc-14cb040a-3 eGIvUX cmc-table\"><colgroup><col style=\"width: 315px; min-width: auto;\"/><col style=\"width: 120px; min-width: auto;\"/><col style=\"width: 120px; min-width: auto;\"/><col style=\"width: 120px; min-width: auto;\"/><col style=\"width: 120px; min-width: auto;\"/><col style=\"width: 315px; min-width: auto;\"/><col style=\"width: 150px; min-width: auto;\"/></colgroup><thead><tr><th class=\"stickyTop\" style=\"text-align: start; top: 1px;\">Date</th><th class=\"stickyTop\" style=\"text-align: start; top: 1px;\">Open*</th><th class=\"stickyTop\" style=\"text-align: start; top: 1px;\">High</th><th class=\"stickyTop\" style=\"text-align: end; top: 1px;\">Low</th><th class=\"stickyTop\" style=\"text-align: end; top: 1px;\">Close**</th><th class=\"stickyTop\" style=\"text-align: end; top: 1px;\">Volume</th><th class=\"stickyTop\" style=\"text-align: end; top: 1px;\">Market Cap</th></tr></thead><tbody><tr><td style=\"text-align: start;\">Mar 26, 2024</td><td style=\"text-align: start;\">$69,931.33</td><td style=\"text-align: start;\">$71,535.74</td><td style=\"text-align: end;\">$69,335.61</td><td style=\"text-align: end;\">$69,987.84</td><td style=\"text-align: end;\">$36,010,437,368</td><td style=\"text-align: end;\">$1,376,403,313,500</td></tr><tr><td style=\"text-align: start;\">Mar 25, 2024</td><td style=\"text-align: start;\">$67,234.10</td><td style=\"text-align: start;\">$71,162.59</td><td style=\"text-align: end;\">$66,414.83</td><td style=\"text-align: end;\">$69,958.81</td><td style=\"text-align: end;\">$42,700,139,523</td><td style=\"text-align: end;\">$1,375,150,091,237</td></tr><tr><td style=\"text-align: start;\">Mar 24, 2024</td><td style=\"text-align: start;\">$64,070.75</td><td style=\"text-align: start;\">$67,622.76</td><td style=\"text-align: end;\">$63,825.85</td><td style=\"text-align: end;\">$67,234.17</td><td style=\"text-align: end;\">$27,206,630,673</td><td style=\"text-align: end;\">$1,322,058,484,489</td></tr><tr><td style=\"text-align: start;\">Mar 23, 2024</td><td style=\"text-align: start;\">$63,802.72</td><td style=\"text-align: start;\">$65,976.40</td><td style=\"text-align: end;\">$63,038.49</td><td style=\"text-align: end;\">$64,062.20</td><td style=\"text-align: end;\">$24,738,964,812</td><td style=\"text-align: end;\">$1,259,788,729,091</td></tr><tr><td style=\"text-align: start;\">Mar 22, 2024</td><td style=\"text-align: start;\">$65,489.93</td><td style=\"text-align: start;\">$66,623.75</td><td style=\"text-align: end;\">$62,355.37</td><td style=\"text-align: end;\">$63,778.76</td><td style=\"text-align: end;\">$41,401,116,964</td><td style=\"text-align: end;\">$1,254,457,600,698</td></tr><tr><td style=\"text-align: start;\">Mar 21, 2024</td><td style=\"text-align: start;\">$67,911.58</td><td style=\"text-align: start;\">$68,199.99</td><td style=\"text-align: end;\">$64,580.92</td><td style=\"text-align: end;\">$65,491.39</td><td style=\"text-align: end;\">$44,480,350,565</td><td style=\"text-align: end;\">$1,287,574,561,971</td></tr><tr><td style=\"text-align: start;\">Mar 20, 2024</td><td style=\"text-align: start;\">$61,930.15</td><td style=\"text-align: start;\">$68,115.26</td><td style=\"text-align: end;\">$60,807.79</td><td style=\"text-align: end;\">$67,913.67</td><td style=\"text-align: end;\">$66,792,634,382</td><td style=\"text-align: end;\">$1,335,131,959,555</td></tr><tr><td style=\"text-align: start;\">Mar 19, 2024</td><td style=\"text-align: start;\">$67,556.13</td><td style=\"text-align: start;\">$68,106.93</td><td style=\"text-align: end;\">$61,536.18</td><td style=\"text-align: end;\">$61,912.77</td><td style=\"text-align: end;\">$74,215,844,794</td><td style=\"text-align: end;\">$1,217,479,093,666</td></tr><tr><td style=\"text-align: start;\">Mar 18, 2024</td><td style=\"text-align: start;\">$68,371.31</td><td style=\"text-align: start;\">$68,897.13</td><td style=\"text-align: end;\">$66,594.23</td><td style=\"text-align: end;\">$67,548.59</td><td style=\"text-align: end;\">$49,261,579,492</td><td style=\"text-align: end;\">$1,328,015,048,454</td></tr><tr><td style=\"text-align: start;\">Mar 17, 2024</td><td style=\"text-align: start;\">$65,316.34</td><td style=\"text-align: start;\">$68,845.72</td><td style=\"text-align: end;\">$64,545.32</td><td style=\"text-align: end;\">$68,390.62</td><td style=\"text-align: end;\">$44,716,864,318</td><td style=\"text-align: end;\">$1,343,978,205,473</td></tr><tr><td style=\"text-align: start;\">Mar 16, 2024</td><td style=\"text-align: start;\">$69,392.49</td><td style=\"text-align: start;\">$70,046.27</td><td style=\"text-align: end;\">$64,801.40</td><td style=\"text-align: end;\">$65,315.12</td><td style=\"text-align: end;\">$46,842,198,371</td><td style=\"text-align: end;\">$1,283,870,289,170</td></tr><tr><td style=\"text-align: start;\">Mar 15, 2024</td><td style=\"text-align: start;\">$71,387.87</td><td style=\"text-align: start;\">$72,357.13</td><td style=\"text-align: end;\">$65,630.69</td><td style=\"text-align: end;\">$69,403.77</td><td style=\"text-align: end;\">$78,320,453,976</td><td style=\"text-align: end;\">$1,363,928,841,107</td></tr><tr><td style=\"text-align: start;\">Mar 14, 2024</td><td style=\"text-align: start;\">$73,079.37</td><td style=\"text-align: start;\">$73,750.07</td><td style=\"text-align: end;\">$68,563.02</td><td style=\"text-align: end;\">$71,396.59</td><td style=\"text-align: end;\">$59,594,605,698</td><td style=\"text-align: end;\">$1,403,092,953,866</td></tr><tr><td style=\"text-align: start;\">Mar 13, 2024</td><td style=\"text-align: start;\">$71,482.12</td><td style=\"text-align: start;\">$73,637.47</td><td style=\"text-align: end;\">$71,334.09</td><td style=\"text-align: end;\">$73,083.50</td><td style=\"text-align: end;\">$48,212,536,929</td><td style=\"text-align: end;\">$1,436,271,822,606</td></tr><tr><td style=\"text-align: start;\">Mar 12, 2024</td><td style=\"text-align: start;\">$72,125.12</td><td style=\"text-align: start;\">$72,825.66</td><td style=\"text-align: end;\">$68,728.85</td><td style=\"text-align: end;\">$71,481.29</td><td style=\"text-align: end;\">$62,554,434,520</td><td style=\"text-align: end;\">$1,404,810,311,680</td></tr><tr><td style=\"text-align: start;\">Mar 11, 2024</td><td style=\"text-align: start;\">$69,020.55</td><td style=\"text-align: start;\">$72,850.71</td><td style=\"text-align: end;\">$67,194.89</td><td style=\"text-align: end;\">$72,123.90</td><td style=\"text-align: end;\">$65,716,656,765</td><td style=\"text-align: end;\">$1,417,380,747,796</td></tr><tr><td style=\"text-align: start;\">Mar 10, 2024</td><td style=\"text-align: start;\">$68,500.26</td><td style=\"text-align: start;\">$70,005.20</td><td style=\"text-align: end;\">$68,239.98</td><td style=\"text-align: end;\">$69,019.79</td><td style=\"text-align: end;\">$35,683,977,532</td><td style=\"text-align: end;\">$1,356,284,493,147</td></tr><tr><td style=\"text-align: start;\">Mar 09, 2024</td><td style=\"text-align: start;\">$68,299.26</td><td style=\"text-align: start;\">$68,673.06</td><td style=\"text-align: end;\">$68,053.13</td><td style=\"text-align: end;\">$68,498.88</td><td style=\"text-align: end;\">$21,609,650,379</td><td style=\"text-align: end;\">$1,346,014,614,978</td></tr><tr><td style=\"text-align: start;\">Mar 08, 2024</td><td style=\"text-align: start;\">$66,938.09</td><td style=\"text-align: start;\">$70,083.05</td><td style=\"text-align: end;\">$66,230.45</td><td style=\"text-align: end;\">$68,300.10</td><td style=\"text-align: end;\">$59,202,881,172</td><td style=\"text-align: end;\">$1,341,992,893,971</td></tr><tr><td style=\"text-align: start;\">Mar 07, 2024</td><td style=\"text-align: start;\">$66,099.74</td><td style=\"text-align: start;\">$68,029.92</td><td style=\"text-align: end;\">$65,655.53</td><td style=\"text-align: end;\">$66,925.48</td><td style=\"text-align: end;\">$46,989,543,159</td><td style=\"text-align: end;\">$1,315,182,056,071</td></tr><tr><td style=\"text-align: start;\">Mar 06, 2024</td><td style=\"text-align: start;\">$63,776.05</td><td style=\"text-align: start;\">$67,637.93</td><td style=\"text-align: end;\">$62,848.67</td><td style=\"text-align: end;\">$66,106.80</td><td style=\"text-align: end;\">$68,750,229,073</td><td style=\"text-align: end;\">$1,298,635,184,350</td></tr><tr><td style=\"text-align: start;\">Mar 05, 2024</td><td style=\"text-align: start;\">$68,341.06</td><td style=\"text-align: start;\">$69,170.63</td><td style=\"text-align: end;\">$59,323.91</td><td style=\"text-align: end;\">$63,801.20</td><td style=\"text-align: end;\">$102,802,940,877</td><td style=\"text-align: end;\">$1,252,930,339,356</td></tr><tr><td style=\"text-align: start;\">Mar 04, 2024</td><td style=\"text-align: start;\">$63,137.00</td><td style=\"text-align: start;\">$68,537.03</td><td style=\"text-align: end;\">$62,386.52</td><td style=\"text-align: end;\">$68,330.42</td><td style=\"text-align: end;\">$70,670,471,105</td><td style=\"text-align: end;\">$1,342,332,633,739</td></tr><tr><td style=\"text-align: start;\">Mar 03, 2024</td><td style=\"text-align: start;\">$62,031.58</td><td style=\"text-align: start;\">$63,230.21</td><td style=\"text-align: end;\">$61,435.02</td><td style=\"text-align: end;\">$63,167.37</td><td style=\"text-align: end;\">$26,253,811,450</td><td style=\"text-align: end;\">$1,240,856,664,935</td></tr><tr><td style=\"text-align: start;\">Mar 02, 2024</td><td style=\"text-align: start;\">$62,431.65</td><td style=\"text-align: start;\">$62,458.70</td><td style=\"text-align: end;\">$61,657.29</td><td style=\"text-align: end;\">$62,029.85</td><td style=\"text-align: end;\">$23,888,473,685</td><td style=\"text-align: end;\">$1,218,449,164,617</td></tr><tr><td style=\"text-align: start;\">Mar 01, 2024</td><td style=\"text-align: start;\">$61,168.06</td><td style=\"text-align: start;\">$63,155.10</td><td style=\"text-align: end;\">$60,802.53</td><td style=\"text-align: end;\">$62,440.63</td><td style=\"text-align: end;\">$40,186,368,423</td><td style=\"text-align: end;\">$1,226,468,270,481</td></tr><tr><td style=\"text-align: start;\">Feb 29, 2024</td><td style=\"text-align: start;\">$62,499.18</td><td style=\"text-align: start;\">$63,585.64</td><td style=\"text-align: end;\">$60,498.73</td><td style=\"text-align: end;\">$61,198.38</td><td style=\"text-align: end;\">$65,496,611,844</td><td style=\"text-align: end;\">$1,202,008,882,584</td></tr><tr><td style=\"text-align: start;\">Feb 28, 2024</td><td style=\"text-align: start;\">$57,071.10</td><td style=\"text-align: start;\">$63,913.13</td><td style=\"text-align: end;\">$56,738.42</td><td style=\"text-align: end;\">$62,504.79</td><td style=\"text-align: end;\">$83,239,156,760</td><td style=\"text-align: end;\">$1,227,615,937,615</td></tr><tr><td style=\"text-align: start;\">Feb 27, 2024</td><td style=\"text-align: start;\">$54,519.36</td><td style=\"text-align: start;\">$57,537.84</td><td style=\"text-align: end;\">$54,484.20</td><td style=\"text-align: end;\">$57,085.37</td><td style=\"text-align: end;\">$49,756,832,031</td><td style=\"text-align: end;\">$1,121,125,657,664</td></tr><tr><td style=\"text-align: start;\">Feb 26, 2024</td><td style=\"text-align: start;\">$51,730.54</td><td style=\"text-align: start;\">$54,938.17</td><td style=\"text-align: end;\">$50,931.03</td><td style=\"text-align: end;\">$54,522.40</td><td style=\"text-align: end;\">$34,074,411,896</td><td style=\"text-align: end;\">$1,070,743,961,955</td></tr><tr><td style=\"text-align: start;\">Feb 25, 2024</td><td style=\"text-align: start;\">$51,565.22</td><td style=\"text-align: start;\">$51,950.03</td><td style=\"text-align: end;\">$51,306.17</td><td style=\"text-align: end;\">$51,733.24</td><td style=\"text-align: end;\">$15,413,239,245</td><td style=\"text-align: end;\">$1,015,926,591,604</td></tr><tr><td style=\"text-align: start;\">Feb 24, 2024</td><td style=\"text-align: start;\">$50,736.37</td><td style=\"text-align: start;\">$51,684.19</td><td style=\"text-align: end;\">$50,585.45</td><td style=\"text-align: end;\">$51,571.10</td><td style=\"text-align: end;\">$15,174,077,879</td><td style=\"text-align: end;\">$1,012,689,168,468</td></tr><tr><td style=\"text-align: start;\">Feb 23, 2024</td><td style=\"text-align: start;\">$51,283.90</td><td style=\"text-align: start;\">$51,497.93</td><td style=\"text-align: end;\">$50,561.78</td><td style=\"text-align: end;\">$50,731.95</td><td style=\"text-align: end;\">$21,427,078,270</td><td style=\"text-align: end;\">$996,165,857,694</td></tr><tr><td style=\"text-align: start;\">Feb 22, 2024</td><td style=\"text-align: start;\">$51,854.65</td><td style=\"text-align: start;\">$52,009.61</td><td style=\"text-align: end;\">$50,926.29</td><td style=\"text-align: end;\">$51,304.97</td><td style=\"text-align: end;\">$25,413,900,611</td><td style=\"text-align: end;\">$1,007,369,631,450</td></tr><tr><td style=\"text-align: start;\">Feb 21, 2024</td><td style=\"text-align: start;\">$52,273.54</td><td style=\"text-align: start;\">$52,368.82</td><td style=\"text-align: end;\">$50,671.76</td><td style=\"text-align: end;\">$51,839.18</td><td style=\"text-align: end;\">$28,624,907,020</td><td style=\"text-align: end;\">$1,017,814,980,563</td></tr><tr><td style=\"text-align: start;\">Feb 20, 2024</td><td style=\"text-align: start;\">$51,777.73</td><td style=\"text-align: start;\">$52,945.05</td><td style=\"text-align: end;\">$50,792.31</td><td style=\"text-align: end;\">$52,284.87</td><td style=\"text-align: end;\">$33,353,758,256</td><td style=\"text-align: end;\">$1,026,519,013,526</td></tr><tr><td style=\"text-align: start;\">Feb 19, 2024</td><td style=\"text-align: start;\">$52,134.81</td><td style=\"text-align: start;\">$52,483.33</td><td style=\"text-align: end;\">$51,711.82</td><td style=\"text-align: end;\">$51,779.14</td><td style=\"text-align: end;\">$21,362,184,346</td><td style=\"text-align: end;\">$1,016,544,621,994</td></tr><tr><td style=\"text-align: start;\">Feb 18, 2024</td><td style=\"text-align: start;\">$51,661.97</td><td style=\"text-align: start;\">$52,356.96</td><td style=\"text-align: end;\">$51,233.71</td><td style=\"text-align: end;\">$52,122.55</td><td style=\"text-align: end;\">$17,595,377,311</td><td style=\"text-align: end;\">$1,023,243,073,518</td></tr><tr><td style=\"text-align: start;\">Feb 17, 2024</td><td style=\"text-align: start;\">$52,161.68</td><td style=\"text-align: start;\">$52,191.91</td><td style=\"text-align: end;\">$50,669.67</td><td style=\"text-align: end;\">$51,663.00</td><td style=\"text-align: end;\">$20,009,091,006</td><td style=\"text-align: end;\">$1,014,181,383,159</td></tr><tr><td style=\"text-align: start;\">Feb 16, 2024</td><td style=\"text-align: start;\">$51,937.73</td><td style=\"text-align: start;\">$52,537.97</td><td style=\"text-align: end;\">$51,641.37</td><td style=\"text-align: end;\">$52,160.20</td><td style=\"text-align: end;\">$28,180,567,298</td><td style=\"text-align: end;\">$1,023,893,671,410</td></tr><tr><td style=\"text-align: start;\">Feb 15, 2024</td><td style=\"text-align: start;\">$51,836.78</td><td style=\"text-align: start;\">$52,820.07</td><td style=\"text-align: end;\">$51,371.63</td><td style=\"text-align: end;\">$51,938.56</td><td style=\"text-align: end;\">$38,564,360,533</td><td style=\"text-align: end;\">$1,019,499,948,270</td></tr><tr><td style=\"text-align: start;\">Feb 14, 2024</td><td style=\"text-align: start;\">$49,733.44</td><td style=\"text-align: start;\">$52,021.37</td><td style=\"text-align: end;\">$49,296.83</td><td style=\"text-align: end;\">$51,826.70</td><td style=\"text-align: end;\">$39,105,608,050</td><td style=\"text-align: end;\">$1,017,254,026,224</td></tr><tr><td style=\"text-align: start;\">Feb 13, 2024</td><td style=\"text-align: start;\">$49,941.36</td><td style=\"text-align: start;\">$50,358.39</td><td style=\"text-align: end;\">$48,406.50</td><td style=\"text-align: end;\">$49,742.44</td><td style=\"text-align: end;\">$35,593,051,468</td><td style=\"text-align: end;\">$976,299,863,552</td></tr><tr><td style=\"text-align: start;\">Feb 12, 2024</td><td style=\"text-align: start;\">$48,296.39</td><td style=\"text-align: start;\">$50,280.48</td><td style=\"text-align: end;\">$47,745.76</td><td style=\"text-align: end;\">$49,958.22</td><td style=\"text-align: end;\">$34,511,985,805</td><td style=\"text-align: end;\">$980,490,999,415</td></tr><tr><td style=\"text-align: start;\">Feb 11, 2024</td><td style=\"text-align: start;\">$47,768.97</td><td style=\"text-align: start;\">$48,535.94</td><td style=\"text-align: end;\">$47,617.41</td><td style=\"text-align: end;\">$48,293.92</td><td style=\"text-align: end;\">$19,315,867,136</td><td style=\"text-align: end;\">$947,774,152,970</td></tr><tr><td style=\"text-align: start;\">Feb 10, 2024</td><td style=\"text-align: start;\">$47,153.53</td><td style=\"text-align: start;\">$48,146.17</td><td style=\"text-align: end;\">$46,905.32</td><td style=\"text-align: end;\">$47,771.28</td><td style=\"text-align: end;\">$16,398,681,570</td><td style=\"text-align: end;\">$937,476,684,153</td></tr><tr><td style=\"text-align: start;\">Feb 09, 2024</td><td style=\"text-align: start;\">$45,297.38</td><td style=\"text-align: start;\">$48,152.49</td><td style=\"text-align: end;\">$45,260.82</td><td style=\"text-align: end;\">$47,147.20</td><td style=\"text-align: end;\">$39,316,770,844</td><td style=\"text-align: end;\">$925,184,504,544</td></tr><tr><td style=\"text-align: start;\">Feb 08, 2024</td><td style=\"text-align: start;\">$44,332.13</td><td style=\"text-align: start;\">$45,575.84</td><td style=\"text-align: end;\">$44,332.13</td><td style=\"text-align: end;\">$45,301.57</td><td style=\"text-align: end;\">$26,154,524,080</td><td style=\"text-align: end;\">$888,921,474,481</td></tr><tr><td style=\"text-align: start;\">Feb 07, 2024</td><td style=\"text-align: start;\">$43,090.02</td><td style=\"text-align: start;\">$44,341.95</td><td style=\"text-align: end;\">$42,775.96</td><td style=\"text-align: end;\">$44,318.22</td><td style=\"text-align: end;\">$21,126,587,775</td><td style=\"text-align: end;\">$869,585,299,010</td></tr><tr><td style=\"text-align: start;\">Feb 06, 2024</td><td style=\"text-align: start;\">$42,657.39</td><td style=\"text-align: start;\">$43,344.15</td><td style=\"text-align: end;\">$42,529.02</td><td style=\"text-align: end;\">$43,084.67</td><td style=\"text-align: end;\">$16,798,476,726</td><td style=\"text-align: end;\">$845,338,495,831</td></tr><tr><td style=\"text-align: start;\">Feb 05, 2024</td><td style=\"text-align: start;\">$42,577.62</td><td style=\"text-align: start;\">$43,494.25</td><td style=\"text-align: end;\">$42,264.82</td><td style=\"text-align: end;\">$42,658.67</td><td style=\"text-align: end;\">$18,715,487,317</td><td style=\"text-align: end;\">$836,936,067,591</td></tr><tr><td style=\"text-align: start;\">Feb 04, 2024</td><td style=\"text-align: start;\">$42,994.94</td><td style=\"text-align: start;\">$43,097.64</td><td style=\"text-align: end;\">$42,374.83</td><td style=\"text-align: end;\">$42,583.58</td><td style=\"text-align: end;\">$14,802,225,490</td><td style=\"text-align: end;\">$835,421,763,160</td></tr><tr><td style=\"text-align: start;\">Feb 03, 2024</td><td style=\"text-align: start;\">$43,184.96</td><td style=\"text-align: start;\">$43,359.94</td><td style=\"text-align: end;\">$42,890.81</td><td style=\"text-align: end;\">$42,992.25</td><td style=\"text-align: end;\">$11,169,245,236</td><td style=\"text-align: end;\">$843,398,823,396</td></tr><tr><td style=\"text-align: start;\">Feb 02, 2024</td><td style=\"text-align: start;\">$43,077.64</td><td style=\"text-align: start;\">$43,422.49</td><td style=\"text-align: end;\">$42,584.34</td><td style=\"text-align: end;\">$43,185.86</td><td style=\"text-align: end;\">$18,603,843,039</td><td style=\"text-align: end;\">$847,154,029,605</td></tr><tr><td style=\"text-align: start;\">Feb 01, 2024</td><td style=\"text-align: start;\">$42,569.76</td><td style=\"text-align: start;\">$43,243.17</td><td style=\"text-align: end;\">$41,879.19</td><td style=\"text-align: end;\">$43,075.77</td><td style=\"text-align: end;\">$21,423,953,779</td><td style=\"text-align: end;\">$844,943,939,980</td></tr><tr><td style=\"text-align: start;\">Jan 31, 2024</td><td style=\"text-align: start;\">$42,946.25</td><td style=\"text-align: start;\">$43,717.40</td><td style=\"text-align: end;\">$42,298.95</td><td style=\"text-align: end;\">$42,582.61</td><td style=\"text-align: end;\">$24,673,628,793</td><td style=\"text-align: end;\">$835,231,465,697</td></tr><tr><td style=\"text-align: start;\">Jan 30, 2024</td><td style=\"text-align: start;\">$43,300.23</td><td style=\"text-align: start;\">$43,838.95</td><td style=\"text-align: end;\">$42,711.37</td><td style=\"text-align: end;\">$42,952.61</td><td style=\"text-align: end;\">$23,842,814,518</td><td style=\"text-align: end;\">$842,451,754,279</td></tr><tr><td style=\"text-align: start;\">Jan 29, 2024</td><td style=\"text-align: start;\">$42,030.92</td><td style=\"text-align: start;\">$43,305.87</td><td style=\"text-align: end;\">$41,818.33</td><td style=\"text-align: end;\">$43,288.25</td><td style=\"text-align: end;\">$20,668,476,578</td><td style=\"text-align: end;\">$848,995,300,208</td></tr><tr><td style=\"text-align: start;\">Jan 28, 2024</td><td style=\"text-align: start;\">$42,126.13</td><td style=\"text-align: start;\">$42,797.18</td><td style=\"text-align: end;\">$41,696.91</td><td style=\"text-align: end;\">$42,035.59</td><td style=\"text-align: end;\">$16,858,971,687</td><td style=\"text-align: end;\">$824,387,868,796</td></tr></tbody></table>"
      ]
     },
     "execution_count": 74,
     "metadata": {},
     "output_type": "execute_result"
    }
   ],
   "source": [
    "history_div = soup.find('div', {'class': 'history'})\n",
    "history_table = history_div.find('table')\n",
    "history_table"
   ]
  },
  {
   "cell_type": "code",
   "execution_count": 88,
   "metadata": {},
   "outputs": [
    {
     "data": {
      "text/plain": [
       "'Jan 28, 2024'"
      ]
     },
     "execution_count": 88,
     "metadata": {},
     "output_type": "execute_result"
    }
   ],
   "source": [
    "history_table.findAll('tr')[-1].find('td').text"
   ]
  },
  {
   "cell_type": "code",
   "execution_count": 83,
   "metadata": {},
   "outputs": [
    {
     "ename": "IndexError",
     "evalue": "list index out of range",
     "output_type": "error",
     "traceback": [
      "\u001b[0;31m---------------------------------------------------------------------------\u001b[0m",
      "\u001b[0;31mIndexError\u001b[0m                                Traceback (most recent call last)",
      "Cell \u001b[0;32mIn[83], line 1\u001b[0m\n\u001b[0;32m----> 1\u001b[0m history_div\u001b[38;5;241m.\u001b[39mfindAll(\u001b[38;5;124m'\u001b[39m\u001b[38;5;124mtable tr\u001b[39m\u001b[38;5;124m'\u001b[39m)[\u001b[38;5;241m-\u001b[39m\u001b[38;5;241m1\u001b[39m]\u001b[38;5;241m.\u001b[39mfind_elements_by_tag_name(\u001b[38;5;124m'\u001b[39m\u001b[38;5;124mtd\u001b[39m\u001b[38;5;124m'\u001b[39m)[\u001b[38;5;241m0\u001b[39m]\u001b[38;5;241m.\u001b[39mtext\n",
      "\u001b[0;31mIndexError\u001b[0m: list index out of range"
     ]
    }
   ],
   "source": [
    "history_div.findAll('table tr')[-1].find_elements_by_tag_name('td')[0].text"
   ]
  },
  {
   "cell_type": "code",
   "execution_count": null,
   "metadata": {},
   "outputs": [],
   "source": [
    "soup = BeautifulSoup(driver.page_source, 'html.parser')\n",
    "history_div = soup.find('div', {'class': 'history'})\n",
    "history_table = history_div.find('table')\n",
    "\n",
    "# Get the last date in the table\n",
    "last_date_string = history_div.find(' table tr')[-1].find_elements_by_tag_name('td')[0].text\n",
    "last_date = datetime.strptime(last_date_string, '%b %d, %Y')\n",
    "print(\"Last date in the table: \", last_date)\n",
    "print(\"start_date: \", start_date)\n",
    "\n",
    "if last_date <= start_date:\n",
    "    print('End reached')\n",
    "print('End not reached')"
   ]
  },
  {
   "cell_type": "code",
   "execution_count": 66,
   "metadata": {},
   "outputs": [],
   "source": [
    "def check_if_limit_reached(driver, start_date):\n",
    "    \n",
    "    try:\n",
    "        soup = BeautifulSoup(driver.page_source, 'html.parser')\n",
    "        history_div = soup.find('div', {'class': 'history'})\n",
    "        history_table = history_div.find('table')\n",
    "\n",
    "        # Get the last date in the table\n",
    "        last_date_string = history_div.find(' table tr')[-1].find_elements_by_tag_name('td')[0].text\n",
    "        last_date = datetime.strptime(last_date_string, '%b %d, %Y')\n",
    "        print(\"Last date in the table: \", last_date)\n",
    "        print(\"start_date: \", start_date)\n",
    "        \n",
    "        if last_date <= start_date:\n",
    "            return True\n",
    "        return False\n",
    "    \n",
    "    except Exception as e:\n",
    "        print('Exception check_if_limit_reached: ', e)\n",
    "        return False"
   ]
  },
  {
   "cell_type": "code",
   "execution_count": 67,
   "metadata": {},
   "outputs": [
    {
     "name": "stdout",
     "output_type": "stream",
     "text": [
      "Exception check_if_limit_reached:  'NoneType' object is not subscriptable\n",
      "Exception check_if_limit_reached:  'NoneType' object is not subscriptable\n",
      "Exception check_if_limit_reached:  'NoneType' object is not subscriptable\n",
      "Exception check_if_limit_reached:  'NoneType' object is not subscriptable\n",
      "Exception check_if_limit_reached:  'NoneType' object is not subscriptable\n",
      "Exception check_if_limit_reached:  'NoneType' object is not subscriptable\n",
      "Exception check_if_limit_reached:  'NoneType' object is not subscriptable\n",
      "Exception check_if_limit_reached:  'NoneType' object is not subscriptable\n",
      "Exception check_if_limit_reached:  'NoneType' object is not subscriptable\n",
      "Exception check_if_limit_reached:  'NoneType' object is not subscriptable\n",
      "Exception check_if_limit_reached:  'NoneType' object is not subscriptable\n",
      "Exception check_if_limit_reached:  'NoneType' object is not subscriptable\n",
      "Exception check_if_limit_reached:  'NoneType' object is not subscriptable\n",
      "Exception check_if_limit_reached:  'NoneType' object is not subscriptable\n",
      "Exception check_if_limit_reached:  'NoneType' object is not subscriptable\n",
      "Exception check_if_limit_reached:  'NoneType' object is not subscriptable\n",
      "Exception check_if_limit_reached:  'NoneType' object is not subscriptable\n",
      "Exception check_if_limit_reached:  'NoneType' object is not subscriptable\n",
      "Exception check_if_limit_reached:  'NoneType' object is not subscriptable\n",
      "Exception check_if_limit_reached:  'NoneType' object is not subscriptable\n",
      "Exception check_if_limit_reached:  'NoneType' object is not subscriptable\n",
      "Exception check_if_limit_reached:  'NoneType' object is not subscriptable\n",
      "Exception check_if_limit_reached:  'NoneType' object is not subscriptable\n",
      "Exception check_if_limit_reached:  'NoneType' object is not subscriptable\n",
      "Exception check_if_limit_reached:  'NoneType' object is not subscriptable\n",
      "Exception check_if_limit_reached:  'NoneType' object is not subscriptable\n",
      "Exception check_if_limit_reached:  'NoneType' object is not subscriptable\n",
      "Exception check_if_limit_reached:  'NoneType' object is not subscriptable\n",
      "Exception check_if_limit_reached:  'NoneType' object is not subscriptable\n",
      "Exception check_if_limit_reached:  'NoneType' object is not subscriptable\n",
      "Exception check_if_limit_reached:  'NoneType' object is not subscriptable\n",
      "Exception check_if_limit_reached:  'NoneType' object is not subscriptable\n",
      "Exception check_if_limit_reached:  'NoneType' object is not subscriptable\n",
      "Exception check_if_limit_reached:  'NoneType' object is not subscriptable\n",
      "Exception check_if_limit_reached:  'NoneType' object is not subscriptable\n",
      "Exception check_if_limit_reached:  'NoneType' object is not subscriptable\n",
      "Exception check_if_limit_reached:  'NoneType' object is not subscriptable\n",
      "Exception check_if_limit_reached:  'NoneType' object is not subscriptable\n",
      "Exception check_if_limit_reached:  Message: no such window: target window already closed\n",
      "from unknown error: web view not found\n",
      "  (Session info: chrome=123.0.6312.59)\n",
      "Stacktrace:\n",
      "0   chromedriver                        0x00000001025ac41c chromedriver + 4326428\n",
      "1   chromedriver                        0x00000001025a48e4 chromedriver + 4294884\n",
      "2   chromedriver                        0x00000001021d0088 chromedriver + 278664\n",
      "3   chromedriver                        0x00000001021ab270 chromedriver + 127600\n",
      "4   chromedriver                        0x00000001022379ac chromedriver + 702892\n",
      "5   chromedriver                        0x000000010224ac0c chromedriver + 781324\n",
      "6   chromedriver                        0x00000001022074e4 chromedriver + 505060\n",
      "7   chromedriver                        0x0000000102207f5c chromedriver + 507740\n",
      "8   chromedriver                        0x000000010256f9b8 chromedriver + 4078008\n",
      "9   chromedriver                        0x0000000102574770 chromedriver + 4097904\n",
      "10  chromedriver                        0x000000010255655c chromedriver + 3974492\n",
      "11  chromedriver                        0x0000000102575088 chromedriver + 4100232\n",
      "12  chromedriver                        0x0000000102547b4c chromedriver + 3914572\n",
      "13  chromedriver                        0x0000000102595690 chromedriver + 4232848\n",
      "14  chromedriver                        0x000000010259580c chromedriver + 4233228\n",
      "15  chromedriver                        0x00000001025a4558 chromedriver + 4293976\n",
      "16  libsystem_pthread.dylib             0x00000001820e2f94 _pthread_start + 136\n",
      "17  libsystem_pthread.dylib             0x00000001820ddd34 thread_start + 8\n",
      "\n"
     ]
    }
   ],
   "source": [
    "# while True:\n",
    "#     try:\n",
    "#         # wait for load_more_button to be clickable\n",
    "#         load_more_button = wait.until(EC.presence_of_element_located((By.XPATH, \"//button[text()='Load More']\")))\n",
    "#         driver.execute_script(\"arguments[0].scrollIntoView();\", load_more_button)\n",
    "#         driver.execute_script(\"arguments[0].click();\", load_more_button)\n",
    "#         time.sleep(3)\n",
    "        \n",
    "#         if check_if_limit_reached(driver, start_date):\n",
    "#             break\n",
    "        \n",
    "#     except Exception as e:\n",
    "#         break"
   ]
  },
  {
   "cell_type": "code",
   "execution_count": 68,
   "metadata": {},
   "outputs": [
    {
     "ename": "NoSuchWindowException",
     "evalue": "Message: no such window: target window already closed\nfrom unknown error: web view not found\n  (Session info: chrome=123.0.6312.59)\nStacktrace:\n0   chromedriver                        0x00000001025ac41c chromedriver + 4326428\n1   chromedriver                        0x00000001025a48e4 chromedriver + 4294884\n2   chromedriver                        0x00000001021d0088 chromedriver + 278664\n3   chromedriver                        0x00000001021ab270 chromedriver + 127600\n4   chromedriver                        0x00000001022379ac chromedriver + 702892\n5   chromedriver                        0x000000010224ac0c chromedriver + 781324\n6   chromedriver                        0x00000001022074e4 chromedriver + 505060\n7   chromedriver                        0x0000000102207f5c chromedriver + 507740\n8   chromedriver                        0x000000010256f9b8 chromedriver + 4078008\n9   chromedriver                        0x0000000102574770 chromedriver + 4097904\n10  chromedriver                        0x000000010255655c chromedriver + 3974492\n11  chromedriver                        0x0000000102575088 chromedriver + 4100232\n12  chromedriver                        0x0000000102547b4c chromedriver + 3914572\n13  chromedriver                        0x0000000102595690 chromedriver + 4232848\n14  chromedriver                        0x000000010259580c chromedriver + 4233228\n15  chromedriver                        0x00000001025a4558 chromedriver + 4293976\n16  libsystem_pthread.dylib             0x00000001820e2f94 _pthread_start + 136\n17  libsystem_pthread.dylib             0x00000001820ddd34 thread_start + 8\n",
     "output_type": "error",
     "traceback": [
      "\u001b[0;31m---------------------------------------------------------------------------\u001b[0m",
      "\u001b[0;31mNoSuchWindowException\u001b[0m                     Traceback (most recent call last)",
      "Cell \u001b[0;32mIn[68], line 1\u001b[0m\n\u001b[0;32m----> 1\u001b[0m soup \u001b[38;5;241m=\u001b[39m BeautifulSoup(driver\u001b[38;5;241m.\u001b[39mpage_source, \u001b[38;5;124m'\u001b[39m\u001b[38;5;124mhtml.parser\u001b[39m\u001b[38;5;124m'\u001b[39m)\n\u001b[1;32m      2\u001b[0m driver\u001b[38;5;241m.\u001b[39mquit()\n",
      "File \u001b[0;32m~/anaconda3/lib/python3.11/site-packages/selenium/webdriver/remote/webdriver.py:448\u001b[0m, in \u001b[0;36mWebDriver.page_source\u001b[0;34m(self)\u001b[0m\n\u001b[1;32m    439\u001b[0m \u001b[38;5;129m@property\u001b[39m\n\u001b[1;32m    440\u001b[0m \u001b[38;5;28;01mdef\u001b[39;00m \u001b[38;5;21mpage_source\u001b[39m(\u001b[38;5;28mself\u001b[39m) \u001b[38;5;241m-\u001b[39m\u001b[38;5;241m>\u001b[39m \u001b[38;5;28mstr\u001b[39m:\n\u001b[1;32m    441\u001b[0m \u001b[38;5;250m    \u001b[39m\u001b[38;5;124;03m\"\"\"Gets the source of the current page.\u001b[39;00m\n\u001b[1;32m    442\u001b[0m \n\u001b[1;32m    443\u001b[0m \u001b[38;5;124;03m    :Usage:\u001b[39;00m\n\u001b[0;32m   (...)\u001b[0m\n\u001b[1;32m    446\u001b[0m \u001b[38;5;124;03m            driver.page_source\u001b[39;00m\n\u001b[1;32m    447\u001b[0m \u001b[38;5;124;03m    \"\"\"\u001b[39;00m\n\u001b[0;32m--> 448\u001b[0m     \u001b[38;5;28;01mreturn\u001b[39;00m \u001b[38;5;28mself\u001b[39m\u001b[38;5;241m.\u001b[39mexecute(Command\u001b[38;5;241m.\u001b[39mGET_PAGE_SOURCE)[\u001b[38;5;124m\"\u001b[39m\u001b[38;5;124mvalue\u001b[39m\u001b[38;5;124m\"\u001b[39m]\n",
      "File \u001b[0;32m~/anaconda3/lib/python3.11/site-packages/selenium/webdriver/remote/webdriver.py:347\u001b[0m, in \u001b[0;36mWebDriver.execute\u001b[0;34m(self, driver_command, params)\u001b[0m\n\u001b[1;32m    345\u001b[0m response \u001b[38;5;241m=\u001b[39m \u001b[38;5;28mself\u001b[39m\u001b[38;5;241m.\u001b[39mcommand_executor\u001b[38;5;241m.\u001b[39mexecute(driver_command, params)\n\u001b[1;32m    346\u001b[0m \u001b[38;5;28;01mif\u001b[39;00m response:\n\u001b[0;32m--> 347\u001b[0m     \u001b[38;5;28mself\u001b[39m\u001b[38;5;241m.\u001b[39merror_handler\u001b[38;5;241m.\u001b[39mcheck_response(response)\n\u001b[1;32m    348\u001b[0m     response[\u001b[38;5;124m\"\u001b[39m\u001b[38;5;124mvalue\u001b[39m\u001b[38;5;124m\"\u001b[39m] \u001b[38;5;241m=\u001b[39m \u001b[38;5;28mself\u001b[39m\u001b[38;5;241m.\u001b[39m_unwrap_value(response\u001b[38;5;241m.\u001b[39mget(\u001b[38;5;124m\"\u001b[39m\u001b[38;5;124mvalue\u001b[39m\u001b[38;5;124m\"\u001b[39m, \u001b[38;5;28;01mNone\u001b[39;00m))\n\u001b[1;32m    349\u001b[0m     \u001b[38;5;28;01mreturn\u001b[39;00m response\n",
      "File \u001b[0;32m~/anaconda3/lib/python3.11/site-packages/selenium/webdriver/remote/errorhandler.py:229\u001b[0m, in \u001b[0;36mErrorHandler.check_response\u001b[0;34m(self, response)\u001b[0m\n\u001b[1;32m    227\u001b[0m         alert_text \u001b[38;5;241m=\u001b[39m value[\u001b[38;5;124m\"\u001b[39m\u001b[38;5;124malert\u001b[39m\u001b[38;5;124m\"\u001b[39m]\u001b[38;5;241m.\u001b[39mget(\u001b[38;5;124m\"\u001b[39m\u001b[38;5;124mtext\u001b[39m\u001b[38;5;124m\"\u001b[39m)\n\u001b[1;32m    228\u001b[0m     \u001b[38;5;28;01mraise\u001b[39;00m exception_class(message, screen, stacktrace, alert_text)  \u001b[38;5;66;03m# type: ignore[call-arg]  # mypy is not smart enough here\u001b[39;00m\n\u001b[0;32m--> 229\u001b[0m \u001b[38;5;28;01mraise\u001b[39;00m exception_class(message, screen, stacktrace)\n",
      "\u001b[0;31mNoSuchWindowException\u001b[0m: Message: no such window: target window already closed\nfrom unknown error: web view not found\n  (Session info: chrome=123.0.6312.59)\nStacktrace:\n0   chromedriver                        0x00000001025ac41c chromedriver + 4326428\n1   chromedriver                        0x00000001025a48e4 chromedriver + 4294884\n2   chromedriver                        0x00000001021d0088 chromedriver + 278664\n3   chromedriver                        0x00000001021ab270 chromedriver + 127600\n4   chromedriver                        0x00000001022379ac chromedriver + 702892\n5   chromedriver                        0x000000010224ac0c chromedriver + 781324\n6   chromedriver                        0x00000001022074e4 chromedriver + 505060\n7   chromedriver                        0x0000000102207f5c chromedriver + 507740\n8   chromedriver                        0x000000010256f9b8 chromedriver + 4078008\n9   chromedriver                        0x0000000102574770 chromedriver + 4097904\n10  chromedriver                        0x000000010255655c chromedriver + 3974492\n11  chromedriver                        0x0000000102575088 chromedriver + 4100232\n12  chromedriver                        0x0000000102547b4c chromedriver + 3914572\n13  chromedriver                        0x0000000102595690 chromedriver + 4232848\n14  chromedriver                        0x000000010259580c chromedriver + 4233228\n15  chromedriver                        0x00000001025a4558 chromedriver + 4293976\n16  libsystem_pthread.dylib             0x00000001820e2f94 _pthread_start + 136\n17  libsystem_pthread.dylib             0x00000001820ddd34 thread_start + 8\n"
     ]
    }
   ],
   "source": [
    "soup = BeautifulSoup(driver.page_source, 'html.parser')\n",
    "driver.quit()"
   ]
  },
  {
   "cell_type": "code",
   "execution_count": null,
   "metadata": {},
   "outputs": [
    {
     "name": "stdout",
     "output_type": "stream",
     "text": [
      "<table class=\"sc-14cb040a-3 eGIvUX cmc-table\"><colgroup><col style=\"width: 315px; min-width: auto;\"/><col style=\"width: 120px; min-width: auto;\"/><col style=\"width: 120px; min-width: auto;\"/><col style=\"width: 120px; min-width: auto;\"/><col style=\"width: 120px; min-width: auto;\"/><col style=\"width: 315px; min-width: auto;\"/><col style=\"width: 150px; min-width: auto;\"/></colgroup><thead><tr><th class=\"stickyTop\" style=\"text-align: start; top: 1px;\">Date</th><th class=\"stickyTop\" style=\"text-align: start; top: 1px;\">Open*</th><th class=\"stickyTop\" style=\"text-align: start; top: 1px;\">High</th><th class=\"stickyTop\" style=\"text-align: end; top: 1px;\">Low</th><th class=\"stickyTop\" style=\"text-align: end; top: 1px;\">Close**</th><th class=\"stickyTop\" style=\"text-align: end; top: 1px;\">Volume</th><th class=\"stickyTop\" style=\"text-align: end; top: 1px;\">Market Cap</th></tr></thead><tbody><tr><td style=\"text-align: start;\">Mar 26, 2024</td><td style=\"text-align: start;\">$69,931.33</td><td style=\"text-align: start;\">$71,535.74</td><td style=\"text-align: end;\">$69,335.61</td><td style=\"text-align: end;\">$69,987.84</td><td style=\"text-align: end;\">$36,010,437,368</td><td style=\"text-align: end;\">$1,376,403,313,500</td></tr><tr><td style=\"text-align: start;\">Mar 25, 2024</td><td style=\"text-align: start;\">$67,234.10</td><td style=\"text-align: start;\">$71,162.59</td><td style=\"text-align: end;\">$66,414.83</td><td style=\"text-align: end;\">$69,958.81</td><td style=\"text-align: end;\">$42,700,139,523</td><td style=\"text-align: end;\">$1,375,150,091,237</td></tr><tr><td style=\"text-align: start;\">Mar 24, 2024</td><td style=\"text-align: start;\">$64,070.75</td><td style=\"text-align: start;\">$67,622.76</td><td style=\"text-align: end;\">$63,825.85</td><td style=\"text-align: end;\">$67,234.17</td><td style=\"text-align: end;\">$27,206,630,673</td><td style=\"text-align: end;\">$1,322,058,484,489</td></tr><tr><td style=\"text-align: start;\">Mar 23, 2024</td><td style=\"text-align: start;\">$63,802.72</td><td style=\"text-align: start;\">$65,976.40</td><td style=\"text-align: end;\">$63,038.49</td><td style=\"text-align: end;\">$64,062.20</td><td style=\"text-align: end;\">$24,738,964,812</td><td style=\"text-align: end;\">$1,259,788,729,091</td></tr><tr><td style=\"text-align: start;\">Mar 22, 2024</td><td style=\"text-align: start;\">$65,489.93</td><td style=\"text-align: start;\">$66,623.75</td><td style=\"text-align: end;\">$62,355.37</td><td style=\"text-align: end;\">$63,778.76</td><td style=\"text-align: end;\">$41,401,116,964</td><td style=\"text-align: end;\">$1,254,457,600,698</td></tr><tr><td style=\"text-align: start;\">Mar 21, 2024</td><td style=\"text-align: start;\">$67,911.58</td><td style=\"text-align: start;\">$68,199.99</td><td style=\"text-align: end;\">$64,580.92</td><td style=\"text-align: end;\">$65,491.39</td><td style=\"text-align: end;\">$44,480,350,565</td><td style=\"text-align: end;\">$1,287,574,561,971</td></tr><tr><td style=\"text-align: start;\">Mar 20, 2024</td><td style=\"text-align: start;\">$61,930.15</td><td style=\"text-align: start;\">$68,115.26</td><td style=\"text-align: end;\">$60,807.79</td><td style=\"text-align: end;\">$67,913.67</td><td style=\"text-align: end;\">$66,792,634,382</td><td style=\"text-align: end;\">$1,335,131,959,555</td></tr><tr><td style=\"text-align: start;\">Mar 19, 2024</td><td style=\"text-align: start;\">$67,556.13</td><td style=\"text-align: start;\">$68,106.93</td><td style=\"text-align: end;\">$61,536.18</td><td style=\"text-align: end;\">$61,912.77</td><td style=\"text-align: end;\">$74,215,844,794</td><td style=\"text-align: end;\">$1,217,479,093,666</td></tr><tr><td style=\"text-align: start;\">Mar 18, 2024</td><td style=\"text-align: start;\">$68,371.31</td><td style=\"text-align: start;\">$68,897.13</td><td style=\"text-align: end;\">$66,594.23</td><td style=\"text-align: end;\">$67,548.59</td><td style=\"text-align: end;\">$49,261,579,492</td><td style=\"text-align: end;\">$1,328,015,048,454</td></tr><tr><td style=\"text-align: start;\">Mar 17, 2024</td><td style=\"text-align: start;\">$65,316.34</td><td style=\"text-align: start;\">$68,845.72</td><td style=\"text-align: end;\">$64,545.32</td><td style=\"text-align: end;\">$68,390.62</td><td style=\"text-align: end;\">$44,716,864,318</td><td style=\"text-align: end;\">$1,343,978,205,473</td></tr><tr><td style=\"text-align: start;\">Mar 16, 2024</td><td style=\"text-align: start;\">$69,392.49</td><td style=\"text-align: start;\">$70,046.27</td><td style=\"text-align: end;\">$64,801.40</td><td style=\"text-align: end;\">$65,315.12</td><td style=\"text-align: end;\">$46,842,198,371</td><td style=\"text-align: end;\">$1,283,870,289,170</td></tr><tr><td style=\"text-align: start;\">Mar 15, 2024</td><td style=\"text-align: start;\">$71,387.87</td><td style=\"text-align: start;\">$72,357.13</td><td style=\"text-align: end;\">$65,630.69</td><td style=\"text-align: end;\">$69,403.77</td><td style=\"text-align: end;\">$78,320,453,976</td><td style=\"text-align: end;\">$1,363,928,841,107</td></tr><tr><td style=\"text-align: start;\">Mar 14, 2024</td><td style=\"text-align: start;\">$73,079.37</td><td style=\"text-align: start;\">$73,750.07</td><td style=\"text-align: end;\">$68,563.02</td><td style=\"text-align: end;\">$71,396.59</td><td style=\"text-align: end;\">$59,594,605,698</td><td style=\"text-align: end;\">$1,403,092,953,866</td></tr><tr><td style=\"text-align: start;\">Mar 13, 2024</td><td style=\"text-align: start;\">$71,482.12</td><td style=\"text-align: start;\">$73,637.47</td><td style=\"text-align: end;\">$71,334.09</td><td style=\"text-align: end;\">$73,083.50</td><td style=\"text-align: end;\">$48,212,536,929</td><td style=\"text-align: end;\">$1,436,271,822,606</td></tr><tr><td style=\"text-align: start;\">Mar 12, 2024</td><td style=\"text-align: start;\">$72,125.12</td><td style=\"text-align: start;\">$72,825.66</td><td style=\"text-align: end;\">$68,728.85</td><td style=\"text-align: end;\">$71,481.29</td><td style=\"text-align: end;\">$62,554,434,520</td><td style=\"text-align: end;\">$1,404,810,311,680</td></tr><tr><td style=\"text-align: start;\">Mar 11, 2024</td><td style=\"text-align: start;\">$69,020.55</td><td style=\"text-align: start;\">$72,850.71</td><td style=\"text-align: end;\">$67,194.89</td><td style=\"text-align: end;\">$72,123.90</td><td style=\"text-align: end;\">$65,716,656,765</td><td style=\"text-align: end;\">$1,417,380,747,796</td></tr><tr><td style=\"text-align: start;\">Mar 10, 2024</td><td style=\"text-align: start;\">$68,500.26</td><td style=\"text-align: start;\">$70,005.20</td><td style=\"text-align: end;\">$68,239.98</td><td style=\"text-align: end;\">$69,019.79</td><td style=\"text-align: end;\">$35,683,977,532</td><td style=\"text-align: end;\">$1,356,284,493,147</td></tr><tr><td style=\"text-align: start;\">Mar 09, 2024</td><td style=\"text-align: start;\">$68,299.26</td><td style=\"text-align: start;\">$68,673.06</td><td style=\"text-align: end;\">$68,053.13</td><td style=\"text-align: end;\">$68,498.88</td><td style=\"text-align: end;\">$21,609,650,379</td><td style=\"text-align: end;\">$1,346,014,614,978</td></tr><tr><td style=\"text-align: start;\">Mar 08, 2024</td><td style=\"text-align: start;\">$66,938.09</td><td style=\"text-align: start;\">$70,083.05</td><td style=\"text-align: end;\">$66,230.45</td><td style=\"text-align: end;\">$68,300.10</td><td style=\"text-align: end;\">$59,202,881,172</td><td style=\"text-align: end;\">$1,341,992,893,971</td></tr><tr><td style=\"text-align: start;\">Mar 07, 2024</td><td style=\"text-align: start;\">$66,099.74</td><td style=\"text-align: start;\">$68,029.92</td><td style=\"text-align: end;\">$65,655.53</td><td style=\"text-align: end;\">$66,925.48</td><td style=\"text-align: end;\">$46,989,543,159</td><td style=\"text-align: end;\">$1,315,182,056,071</td></tr><tr><td style=\"text-align: start;\">Mar 06, 2024</td><td style=\"text-align: start;\">$63,776.05</td><td style=\"text-align: start;\">$67,637.93</td><td style=\"text-align: end;\">$62,848.67</td><td style=\"text-align: end;\">$66,106.80</td><td style=\"text-align: end;\">$68,750,229,073</td><td style=\"text-align: end;\">$1,298,635,184,350</td></tr><tr><td style=\"text-align: start;\">Mar 05, 2024</td><td style=\"text-align: start;\">$68,341.06</td><td style=\"text-align: start;\">$69,170.63</td><td style=\"text-align: end;\">$59,323.91</td><td style=\"text-align: end;\">$63,801.20</td><td style=\"text-align: end;\">$102,802,940,877</td><td style=\"text-align: end;\">$1,252,930,339,356</td></tr><tr><td style=\"text-align: start;\">Mar 04, 2024</td><td style=\"text-align: start;\">$63,137.00</td><td style=\"text-align: start;\">$68,537.03</td><td style=\"text-align: end;\">$62,386.52</td><td style=\"text-align: end;\">$68,330.42</td><td style=\"text-align: end;\">$70,670,471,105</td><td style=\"text-align: end;\">$1,342,332,633,739</td></tr><tr><td style=\"text-align: start;\">Mar 03, 2024</td><td style=\"text-align: start;\">$62,031.58</td><td style=\"text-align: start;\">$63,230.21</td><td style=\"text-align: end;\">$61,435.02</td><td style=\"text-align: end;\">$63,167.37</td><td style=\"text-align: end;\">$26,253,811,450</td><td style=\"text-align: end;\">$1,240,856,664,935</td></tr><tr><td style=\"text-align: start;\">Mar 02, 2024</td><td style=\"text-align: start;\">$62,431.65</td><td style=\"text-align: start;\">$62,458.70</td><td style=\"text-align: end;\">$61,657.29</td><td style=\"text-align: end;\">$62,029.85</td><td style=\"text-align: end;\">$23,888,473,685</td><td style=\"text-align: end;\">$1,218,449,164,617</td></tr><tr><td style=\"text-align: start;\">Mar 01, 2024</td><td style=\"text-align: start;\">$61,168.06</td><td style=\"text-align: start;\">$63,155.10</td><td style=\"text-align: end;\">$60,802.53</td><td style=\"text-align: end;\">$62,440.63</td><td style=\"text-align: end;\">$40,186,368,423</td><td style=\"text-align: end;\">$1,226,468,270,481</td></tr><tr><td style=\"text-align: start;\">Feb 29, 2024</td><td style=\"text-align: start;\">$62,499.18</td><td style=\"text-align: start;\">$63,585.64</td><td style=\"text-align: end;\">$60,498.73</td><td style=\"text-align: end;\">$61,198.38</td><td style=\"text-align: end;\">$65,496,611,844</td><td style=\"text-align: end;\">$1,202,008,882,584</td></tr><tr><td style=\"text-align: start;\">Feb 28, 2024</td><td style=\"text-align: start;\">$57,071.10</td><td style=\"text-align: start;\">$63,913.13</td><td style=\"text-align: end;\">$56,738.42</td><td style=\"text-align: end;\">$62,504.79</td><td style=\"text-align: end;\">$83,239,156,760</td><td style=\"text-align: end;\">$1,227,615,937,615</td></tr><tr><td style=\"text-align: start;\">Feb 27, 2024</td><td style=\"text-align: start;\">$54,519.36</td><td style=\"text-align: start;\">$57,537.84</td><td style=\"text-align: end;\">$54,484.20</td><td style=\"text-align: end;\">$57,085.37</td><td style=\"text-align: end;\">$49,756,832,031</td><td style=\"text-align: end;\">$1,121,125,657,664</td></tr><tr><td style=\"text-align: start;\">Feb 26, 2024</td><td style=\"text-align: start;\">$51,730.54</td><td style=\"text-align: start;\">$54,938.17</td><td style=\"text-align: end;\">$50,931.03</td><td style=\"text-align: end;\">$54,522.40</td><td style=\"text-align: end;\">$34,074,411,896</td><td style=\"text-align: end;\">$1,070,743,961,955</td></tr><tr><td style=\"text-align: start;\">Feb 25, 2024</td><td style=\"text-align: start;\">$51,565.22</td><td style=\"text-align: start;\">$51,950.03</td><td style=\"text-align: end;\">$51,306.17</td><td style=\"text-align: end;\">$51,733.24</td><td style=\"text-align: end;\">$15,413,239,245</td><td style=\"text-align: end;\">$1,015,926,591,604</td></tr><tr><td style=\"text-align: start;\">Feb 24, 2024</td><td style=\"text-align: start;\">$50,736.37</td><td style=\"text-align: start;\">$51,684.19</td><td style=\"text-align: end;\">$50,585.45</td><td style=\"text-align: end;\">$51,571.10</td><td style=\"text-align: end;\">$15,174,077,879</td><td style=\"text-align: end;\">$1,012,689,168,468</td></tr><tr><td style=\"text-align: start;\">Feb 23, 2024</td><td style=\"text-align: start;\">$51,283.90</td><td style=\"text-align: start;\">$51,497.93</td><td style=\"text-align: end;\">$50,561.78</td><td style=\"text-align: end;\">$50,731.95</td><td style=\"text-align: end;\">$21,427,078,270</td><td style=\"text-align: end;\">$996,165,857,694</td></tr><tr><td style=\"text-align: start;\">Feb 22, 2024</td><td style=\"text-align: start;\">$51,854.65</td><td style=\"text-align: start;\">$52,009.61</td><td style=\"text-align: end;\">$50,926.29</td><td style=\"text-align: end;\">$51,304.97</td><td style=\"text-align: end;\">$25,413,900,611</td><td style=\"text-align: end;\">$1,007,369,631,450</td></tr><tr><td style=\"text-align: start;\">Feb 21, 2024</td><td style=\"text-align: start;\">$52,273.54</td><td style=\"text-align: start;\">$52,368.82</td><td style=\"text-align: end;\">$50,671.76</td><td style=\"text-align: end;\">$51,839.18</td><td style=\"text-align: end;\">$28,624,907,020</td><td style=\"text-align: end;\">$1,017,814,980,563</td></tr><tr><td style=\"text-align: start;\">Feb 20, 2024</td><td style=\"text-align: start;\">$51,777.73</td><td style=\"text-align: start;\">$52,945.05</td><td style=\"text-align: end;\">$50,792.31</td><td style=\"text-align: end;\">$52,284.87</td><td style=\"text-align: end;\">$33,353,758,256</td><td style=\"text-align: end;\">$1,026,519,013,526</td></tr><tr><td style=\"text-align: start;\">Feb 19, 2024</td><td style=\"text-align: start;\">$52,134.81</td><td style=\"text-align: start;\">$52,483.33</td><td style=\"text-align: end;\">$51,711.82</td><td style=\"text-align: end;\">$51,779.14</td><td style=\"text-align: end;\">$21,362,184,346</td><td style=\"text-align: end;\">$1,016,544,621,994</td></tr><tr><td style=\"text-align: start;\">Feb 18, 2024</td><td style=\"text-align: start;\">$51,661.97</td><td style=\"text-align: start;\">$52,356.96</td><td style=\"text-align: end;\">$51,233.71</td><td style=\"text-align: end;\">$52,122.55</td><td style=\"text-align: end;\">$17,595,377,311</td><td style=\"text-align: end;\">$1,023,243,073,518</td></tr><tr><td style=\"text-align: start;\">Feb 17, 2024</td><td style=\"text-align: start;\">$52,161.68</td><td style=\"text-align: start;\">$52,191.91</td><td style=\"text-align: end;\">$50,669.67</td><td style=\"text-align: end;\">$51,663.00</td><td style=\"text-align: end;\">$20,009,091,006</td><td style=\"text-align: end;\">$1,014,181,383,159</td></tr><tr><td style=\"text-align: start;\">Feb 16, 2024</td><td style=\"text-align: start;\">$51,937.73</td><td style=\"text-align: start;\">$52,537.97</td><td style=\"text-align: end;\">$51,641.37</td><td style=\"text-align: end;\">$52,160.20</td><td style=\"text-align: end;\">$28,180,567,298</td><td style=\"text-align: end;\">$1,023,893,671,410</td></tr><tr><td style=\"text-align: start;\">Feb 15, 2024</td><td style=\"text-align: start;\">$51,836.78</td><td style=\"text-align: start;\">$52,820.07</td><td style=\"text-align: end;\">$51,371.63</td><td style=\"text-align: end;\">$51,938.56</td><td style=\"text-align: end;\">$38,564,360,533</td><td style=\"text-align: end;\">$1,019,499,948,270</td></tr><tr><td style=\"text-align: start;\">Feb 14, 2024</td><td style=\"text-align: start;\">$49,733.44</td><td style=\"text-align: start;\">$52,021.37</td><td style=\"text-align: end;\">$49,296.83</td><td style=\"text-align: end;\">$51,826.70</td><td style=\"text-align: end;\">$39,105,608,050</td><td style=\"text-align: end;\">$1,017,254,026,224</td></tr><tr><td style=\"text-align: start;\">Feb 13, 2024</td><td style=\"text-align: start;\">$49,941.36</td><td style=\"text-align: start;\">$50,358.39</td><td style=\"text-align: end;\">$48,406.50</td><td style=\"text-align: end;\">$49,742.44</td><td style=\"text-align: end;\">$35,593,051,468</td><td style=\"text-align: end;\">$976,299,863,552</td></tr><tr><td style=\"text-align: start;\">Feb 12, 2024</td><td style=\"text-align: start;\">$48,296.39</td><td style=\"text-align: start;\">$50,280.48</td><td style=\"text-align: end;\">$47,745.76</td><td style=\"text-align: end;\">$49,958.22</td><td style=\"text-align: end;\">$34,511,985,805</td><td style=\"text-align: end;\">$980,490,999,415</td></tr><tr><td style=\"text-align: start;\">Feb 11, 2024</td><td style=\"text-align: start;\">$47,768.97</td><td style=\"text-align: start;\">$48,535.94</td><td style=\"text-align: end;\">$47,617.41</td><td style=\"text-align: end;\">$48,293.92</td><td style=\"text-align: end;\">$19,315,867,136</td><td style=\"text-align: end;\">$947,774,152,970</td></tr><tr><td style=\"text-align: start;\">Feb 10, 2024</td><td style=\"text-align: start;\">$47,153.53</td><td style=\"text-align: start;\">$48,146.17</td><td style=\"text-align: end;\">$46,905.32</td><td style=\"text-align: end;\">$47,771.28</td><td style=\"text-align: end;\">$16,398,681,570</td><td style=\"text-align: end;\">$937,476,684,153</td></tr><tr><td style=\"text-align: start;\">Feb 09, 2024</td><td style=\"text-align: start;\">$45,297.38</td><td style=\"text-align: start;\">$48,152.49</td><td style=\"text-align: end;\">$45,260.82</td><td style=\"text-align: end;\">$47,147.20</td><td style=\"text-align: end;\">$39,316,770,844</td><td style=\"text-align: end;\">$925,184,504,544</td></tr><tr><td style=\"text-align: start;\">Feb 08, 2024</td><td style=\"text-align: start;\">$44,332.13</td><td style=\"text-align: start;\">$45,575.84</td><td style=\"text-align: end;\">$44,332.13</td><td style=\"text-align: end;\">$45,301.57</td><td style=\"text-align: end;\">$26,154,524,080</td><td style=\"text-align: end;\">$888,921,474,481</td></tr><tr><td style=\"text-align: start;\">Feb 07, 2024</td><td style=\"text-align: start;\">$43,090.02</td><td style=\"text-align: start;\">$44,341.95</td><td style=\"text-align: end;\">$42,775.96</td><td style=\"text-align: end;\">$44,318.22</td><td style=\"text-align: end;\">$21,126,587,775</td><td style=\"text-align: end;\">$869,585,299,010</td></tr><tr><td style=\"text-align: start;\">Feb 06, 2024</td><td style=\"text-align: start;\">$42,657.39</td><td style=\"text-align: start;\">$43,344.15</td><td style=\"text-align: end;\">$42,529.02</td><td style=\"text-align: end;\">$43,084.67</td><td style=\"text-align: end;\">$16,798,476,726</td><td style=\"text-align: end;\">$845,338,495,831</td></tr><tr><td style=\"text-align: start;\">Feb 05, 2024</td><td style=\"text-align: start;\">$42,577.62</td><td style=\"text-align: start;\">$43,494.25</td><td style=\"text-align: end;\">$42,264.82</td><td style=\"text-align: end;\">$42,658.67</td><td style=\"text-align: end;\">$18,715,487,317</td><td style=\"text-align: end;\">$836,936,067,591</td></tr><tr><td style=\"text-align: start;\">Feb 04, 2024</td><td style=\"text-align: start;\">$42,994.94</td><td style=\"text-align: start;\">$43,097.64</td><td style=\"text-align: end;\">$42,374.83</td><td style=\"text-align: end;\">$42,583.58</td><td style=\"text-align: end;\">$14,802,225,490</td><td style=\"text-align: end;\">$835,421,763,160</td></tr><tr><td style=\"text-align: start;\">Feb 03, 2024</td><td style=\"text-align: start;\">$43,184.96</td><td style=\"text-align: start;\">$43,359.94</td><td style=\"text-align: end;\">$42,890.81</td><td style=\"text-align: end;\">$42,992.25</td><td style=\"text-align: end;\">$11,169,245,236</td><td style=\"text-align: end;\">$843,398,823,396</td></tr><tr><td style=\"text-align: start;\">Feb 02, 2024</td><td style=\"text-align: start;\">$43,077.64</td><td style=\"text-align: start;\">$43,422.49</td><td style=\"text-align: end;\">$42,584.34</td><td style=\"text-align: end;\">$43,185.86</td><td style=\"text-align: end;\">$18,603,843,039</td><td style=\"text-align: end;\">$847,154,029,605</td></tr><tr><td style=\"text-align: start;\">Feb 01, 2024</td><td style=\"text-align: start;\">$42,569.76</td><td style=\"text-align: start;\">$43,243.17</td><td style=\"text-align: end;\">$41,879.19</td><td style=\"text-align: end;\">$43,075.77</td><td style=\"text-align: end;\">$21,423,953,779</td><td style=\"text-align: end;\">$844,943,939,980</td></tr><tr><td style=\"text-align: start;\">Jan 31, 2024</td><td style=\"text-align: start;\">$42,946.25</td><td style=\"text-align: start;\">$43,717.40</td><td style=\"text-align: end;\">$42,298.95</td><td style=\"text-align: end;\">$42,582.61</td><td style=\"text-align: end;\">$24,673,628,793</td><td style=\"text-align: end;\">$835,231,465,697</td></tr><tr><td style=\"text-align: start;\">Jan 30, 2024</td><td style=\"text-align: start;\">$43,300.23</td><td style=\"text-align: start;\">$43,838.95</td><td style=\"text-align: end;\">$42,711.37</td><td style=\"text-align: end;\">$42,952.61</td><td style=\"text-align: end;\">$23,842,814,518</td><td style=\"text-align: end;\">$842,451,754,279</td></tr><tr><td style=\"text-align: start;\">Jan 29, 2024</td><td style=\"text-align: start;\">$42,030.92</td><td style=\"text-align: start;\">$43,305.87</td><td style=\"text-align: end;\">$41,818.33</td><td style=\"text-align: end;\">$43,288.25</td><td style=\"text-align: end;\">$20,668,476,578</td><td style=\"text-align: end;\">$848,995,300,208</td></tr><tr><td style=\"text-align: start;\">Jan 28, 2024</td><td style=\"text-align: start;\">$42,126.13</td><td style=\"text-align: start;\">$42,797.18</td><td style=\"text-align: end;\">$41,696.91</td><td style=\"text-align: end;\">$42,035.59</td><td style=\"text-align: end;\">$16,858,971,687</td><td style=\"text-align: end;\">$824,387,868,796</td></tr></tbody></table>\n"
     ]
    }
   ],
   "source": [
    "history_div = soup.find('div', {'class': 'history'})\n",
    "history_table = history_div.find('table')\n",
    "print(history_table)"
   ]
  },
  {
   "cell_type": "code",
   "execution_count": null,
   "metadata": {},
   "outputs": [
    {
     "name": "stderr",
     "output_type": "stream",
     "text": [
      "/var/folders/qn/zrg5ms9n4mj424yzj3h57fh80000gn/T/ipykernel_21584/102780542.py:1: FutureWarning: Passing literal html to 'read_html' is deprecated and will be removed in a future version. To read from a literal string, wrap it in a 'StringIO' object.\n",
      "  history_df = pd.read_html(str(history_table))[0]\n"
     ]
    },
    {
     "data": {
      "text/html": [
       "<div>\n",
       "<style scoped>\n",
       "    .dataframe tbody tr th:only-of-type {\n",
       "        vertical-align: middle;\n",
       "    }\n",
       "\n",
       "    .dataframe tbody tr th {\n",
       "        vertical-align: top;\n",
       "    }\n",
       "\n",
       "    .dataframe thead th {\n",
       "        text-align: right;\n",
       "    }\n",
       "</style>\n",
       "<table border=\"1\" class=\"dataframe\">\n",
       "  <thead>\n",
       "    <tr style=\"text-align: right;\">\n",
       "      <th></th>\n",
       "      <th>Date</th>\n",
       "      <th>Open*</th>\n",
       "      <th>High</th>\n",
       "      <th>Low</th>\n",
       "      <th>Close**</th>\n",
       "      <th>Volume</th>\n",
       "      <th>Market Cap</th>\n",
       "    </tr>\n",
       "  </thead>\n",
       "  <tbody>\n",
       "    <tr>\n",
       "      <th>0</th>\n",
       "      <td>Mar 26, 2024</td>\n",
       "      <td>$69,931.33</td>\n",
       "      <td>$71,535.74</td>\n",
       "      <td>$69,335.61</td>\n",
       "      <td>$69,987.84</td>\n",
       "      <td>$36,010,437,368</td>\n",
       "      <td>$1,376,403,313,500</td>\n",
       "    </tr>\n",
       "    <tr>\n",
       "      <th>1</th>\n",
       "      <td>Mar 25, 2024</td>\n",
       "      <td>$67,234.10</td>\n",
       "      <td>$71,162.59</td>\n",
       "      <td>$66,414.83</td>\n",
       "      <td>$69,958.81</td>\n",
       "      <td>$42,700,139,523</td>\n",
       "      <td>$1,375,150,091,237</td>\n",
       "    </tr>\n",
       "    <tr>\n",
       "      <th>2</th>\n",
       "      <td>Mar 24, 2024</td>\n",
       "      <td>$64,070.75</td>\n",
       "      <td>$67,622.76</td>\n",
       "      <td>$63,825.85</td>\n",
       "      <td>$67,234.17</td>\n",
       "      <td>$27,206,630,673</td>\n",
       "      <td>$1,322,058,484,489</td>\n",
       "    </tr>\n",
       "    <tr>\n",
       "      <th>3</th>\n",
       "      <td>Mar 23, 2024</td>\n",
       "      <td>$63,802.72</td>\n",
       "      <td>$65,976.40</td>\n",
       "      <td>$63,038.49</td>\n",
       "      <td>$64,062.20</td>\n",
       "      <td>$24,738,964,812</td>\n",
       "      <td>$1,259,788,729,091</td>\n",
       "    </tr>\n",
       "    <tr>\n",
       "      <th>4</th>\n",
       "      <td>Mar 22, 2024</td>\n",
       "      <td>$65,489.93</td>\n",
       "      <td>$66,623.75</td>\n",
       "      <td>$62,355.37</td>\n",
       "      <td>$63,778.76</td>\n",
       "      <td>$41,401,116,964</td>\n",
       "      <td>$1,254,457,600,698</td>\n",
       "    </tr>\n",
       "  </tbody>\n",
       "</table>\n",
       "</div>"
      ],
      "text/plain": [
       "           Date       Open*        High         Low     Close**  \\\n",
       "0  Mar 26, 2024  $69,931.33  $71,535.74  $69,335.61  $69,987.84   \n",
       "1  Mar 25, 2024  $67,234.10  $71,162.59  $66,414.83  $69,958.81   \n",
       "2  Mar 24, 2024  $64,070.75  $67,622.76  $63,825.85  $67,234.17   \n",
       "3  Mar 23, 2024  $63,802.72  $65,976.40  $63,038.49  $64,062.20   \n",
       "4  Mar 22, 2024  $65,489.93  $66,623.75  $62,355.37  $63,778.76   \n",
       "\n",
       "            Volume          Market Cap  \n",
       "0  $36,010,437,368  $1,376,403,313,500  \n",
       "1  $42,700,139,523  $1,375,150,091,237  \n",
       "2  $27,206,630,673  $1,322,058,484,489  \n",
       "3  $24,738,964,812  $1,259,788,729,091  \n",
       "4  $41,401,116,964  $1,254,457,600,698  "
      ]
     },
     "execution_count": 46,
     "metadata": {},
     "output_type": "execute_result"
    }
   ],
   "source": [
    "history_df = pd.read_html(str(history_table))[0]\n",
    "history_df.head()"
   ]
  },
  {
   "cell_type": "code",
   "execution_count": null,
   "metadata": {},
   "outputs": [
    {
     "data": {
      "text/plain": [
       "(59, 7)"
      ]
     },
     "execution_count": 47,
     "metadata": {},
     "output_type": "execute_result"
    }
   ],
   "source": [
    "history_df.shape"
   ]
  },
  {
   "cell_type": "code",
   "execution_count": null,
   "metadata": {},
   "outputs": [],
   "source": [
    "history_df.to_csv('../data/raw/bitcoin_historical_data.csv', index=False)"
   ]
  },
  {
   "cell_type": "code",
   "execution_count": null,
   "metadata": {},
   "outputs": [
    {
     "name": "stdout",
     "output_type": "stream",
     "text": [
      "bitcoin\n",
      "ethereum\n"
     ]
    }
   ],
   "source": [
    "for currency in df['slug'][:2]:\n",
    "    print(currency)"
   ]
  }
 ],
 "metadata": {
  "kernelspec": {
   "display_name": "Python 3",
   "language": "python",
   "name": "python3"
  },
  "language_info": {
   "codemirror_mode": {
    "name": "ipython",
    "version": 3
   },
   "file_extension": ".py",
   "mimetype": "text/x-python",
   "name": "python",
   "nbconvert_exporter": "python",
   "pygments_lexer": "ipython3",
   "version": "3.11.5"
  }
 },
 "nbformat": 4,
 "nbformat_minor": 2
}

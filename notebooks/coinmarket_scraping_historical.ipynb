{
 "cells": [
  {
   "cell_type": "code",
   "execution_count": 1,
   "metadata": {},
   "outputs": [],
   "source": [
    "\n",
    "import pandas as pd\n",
    "from bs4 import BeautifulSoup\n",
    "import time\n",
    "from datetime import datetime\n",
    "\n",
    "!pip install selenium\n",
    "from selenium import webdriver\n",
    "from selenium.webdriver.support.ui import WebDriverWait\n",
    "from selenium.webdriver.support import expected_conditions as EC\n",
    "from selenium.webdriver.common.by import By"
   ]
  },
  {
   "cell_type": "code",
   "execution_count": null,
   "metadata": {},
   "outputs": [],
   "source": [
    "df = pd.read_csv('../data/raw/coinmarketcap_cryptocurrency_listings_latest.csv')\n",
    "df.head()"
   ]
  },
  {
   "cell_type": "markdown",
   "metadata": {},
   "source": [
    "# Get historical data from 2017-2024 for each currency using url"
   ]
  },
  {
   "cell_type": "code",
   "execution_count": null,
   "metadata": {},
   "outputs": [],
   "source": [
    "start_date = 20170101\n",
    "end_date = 202403026"
   ]
  },
  {
   "cell_type": "code",
   "execution_count": null,
   "metadata": {},
   "outputs": [],
   "source": [
    "def create_crypt_history_url(coin_name):\n",
    "    base_url = 'https://coinmarketcap.com'\n",
    "    return f'{base_url}/currencies/{coin_name}/historical-data/?start={start_date}&end={end_date}'"
   ]
  },
  {
   "cell_type": "code",
   "execution_count": null,
   "metadata": {},
   "outputs": [],
   "source": [
    "def check_if_limit_reached(driver, start_date):\n",
    "    try:\n",
    "        soup = BeautifulSoup(driver.page_source, 'html.parser')\n",
    "        history_div = soup.find('div', {'class': 'history'})\n",
    "        history_table = history_div.find('table')\n",
    "\n",
    "        # Get the last date in the table\n",
    "        last_date_string = history_table.findAll('tr')[-1].find('td').text\n",
    "        last_date = datetime.strptime(last_date_string, '%b %d, %Y')\n",
    "        from_date = datetime.strptime(str(start_date), '%Y%m%d')\n",
    "        \n",
    "        if last_date <= from_date:\n",
    "            return True\n",
    "        return False\n",
    "    \n",
    "    except Exception as e:\n",
    "        print('Exception check_if_limit_reached: ', e)\n",
    "        return False"
   ]
  },
  {
   "cell_type": "code",
   "execution_count": null,
   "metadata": {},
   "outputs": [],
   "source": [
    "def get_crypt_history(coin):\n",
    "    url = create_crypt_history_url(coin)\n",
    "    driver = webdriver.Chrome()\n",
    "    driver.get(url)\n",
    "    \n",
    "    # wait for the history table to be generated\n",
    "    wait = WebDriverWait(driver, 10)\n",
    "    wait.until(EC.presence_of_element_located((By.CSS_SELECTOR, '.history table')))\n",
    "    \n",
    "    while True:\n",
    "        try:\n",
    "            # wait for load_more_button to be clickable\n",
    "            load_more_button = wait.until(EC.presence_of_element_located((By.XPATH, \"//button[text()='Load More']\")))\n",
    "            driver.execute_script(\"arguments[0].scrollIntoView();\", load_more_button)\n",
    "            driver.execute_script(\"arguments[0].click();\", load_more_button)\n",
    "            time.sleep(3)\n",
    "            \n",
    "            if check_if_limit_reached(driver, start_date):\n",
    "                break\n",
    "            \n",
    "        except Exception as e:\n",
    "            break\n",
    "        \n",
    "    soup = BeautifulSoup(driver.page_source, 'html.parser')\n",
    "    driver.quit()\n",
    "    \n",
    "    history_div = soup.find('div', {'class': 'history'})\n",
    "    history_table = history_div.find('table')\n",
    "    \n",
    "    history_df = pd.read_html(str(history_table))[0]\n",
    "    \n",
    "    # save df to csv\n",
    "    file_name = f'../data/raw/{coin}.csv'\n",
    "    history_df.to_csv(file_name, index=False)\n",
    "    \n",
    "    print(f'{coin} history saved to {file_name}. Records: {history_df.shape[0]}')\n",
    "    "
   ]
  },
  {
   "cell_type": "code",
   "execution_count": null,
   "metadata": {},
   "outputs": [],
   "source": [
    "for coin in df['slug'][:5]:\n",
    "    get_crypt_history(coin)"
   ]
  }
 ],
 "metadata": {
  "kernelspec": {
   "display_name": "Python 3",
   "language": "python",
   "name": "python3"
  },
  "language_info": {
   "codemirror_mode": {
    "name": "ipython",
    "version": 3
   },
   "file_extension": ".py",
   "mimetype": "text/x-python",
   "name": "python",
   "nbconvert_exporter": "python",
   "pygments_lexer": "ipython3",
   "version": "3.11.5"
  }
 },
 "nbformat": 4,
 "nbformat_minor": 2
}

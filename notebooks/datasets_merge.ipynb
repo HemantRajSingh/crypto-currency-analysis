{
 "cells": [
  {
   "cell_type": "code",
   "execution_count": 1,
   "metadata": {},
   "outputs": [],
   "source": [
    "import pandas as pd\n",
    "import os"
   ]
  },
  {
   "cell_type": "code",
   "execution_count": null,
   "metadata": {},
   "outputs": [],
   "source": [
    "datasets_folder_path = '../data/raw'\n",
    "csv_files = [file for file in os.listdir(folder_path) if file.endswith('.csv') and file != 'coinmarketcap_cryptocurrency_listings_latest.csv']\n",
    "\n",
    "merged_df = pd.DataFrame()\n",
    "\n",
    "for file in csv_files:\n",
    "    file_path = os.path.join(datasets_folder_path, file)\n",
    "    df = pd.read_csv(file_path)\n",
    "    merged_df = pd.concat([merged_df, df])\n",
    "\n",
    "merged_file_path = '../data/merged/top_50_crypto.csv'\n",
    "merged_df.to_csv(merged_file_path, index=False)\n",
    "\n",
    "print(f\"Top 50 crypto currencies historical data from 2017to 2024 saved to filepath: {merged_file_path}\")\n"
   ]
  }
 ],
 "metadata": {
  "kernelspec": {
   "display_name": "base",
   "language": "python",
   "name": "python3"
  },
  "language_info": {
   "codemirror_mode": {
    "name": "ipython",
    "version": 3
   },
   "file_extension": ".py",
   "mimetype": "text/x-python",
   "name": "python",
   "nbconvert_exporter": "python",
   "pygments_lexer": "ipython3",
   "version": "3.11.5"
  }
 },
 "nbformat": 4,
 "nbformat_minor": 2
}
